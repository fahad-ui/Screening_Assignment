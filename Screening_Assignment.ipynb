{
 "cells": [
  {
   "cell_type": "markdown",
   "metadata": {},
   "source": [
    "### Multiple Inheritance\n",
    "#### * Multiple inheritance is a feature of  object-oriented computer programming languages in which an object or class can inherit characteristics and features from more than one parent object or the parent class "
   ]
  },
  {
   "cell_type": "code",
   "execution_count": 1,
   "metadata": {},
   "outputs": [],
   "source": [
    "class Car():\n",
    "    def Benz(self):\n",
    "        print(\" This is Benz Car \")\n",
    "class Bike():\n",
    "    def Bmw(self):\n",
    "        print(\" This is BMW car \")\n",
    "class Bus():\n",
    "    def Volvo(self):\n",
    "        print(\" This is Volvo Bus \")\n",
    "class Truck():\n",
    "    def Eicher(self):\n",
    "        print(\" This is Eicher Truck \")\n",
    "class Plane():\n",
    "    def Indigo(self):\n",
    "        print(\" This is Indigo plane \")\n",
    "class Transport(Car,Bike,Bus,Truck,Plane):\n",
    "    def Main_class(self):\n",
    "        print(\"This is the Main Class\")"
   ]
  },
  {
   "cell_type": "code",
   "execution_count": 2,
   "metadata": {},
   "outputs": [],
   "source": [
    "M = Transport()"
   ]
  },
  {
   "cell_type": "code",
   "execution_count": 3,
   "metadata": {},
   "outputs": [
    {
     "name": "stdout",
     "output_type": "stream",
     "text": [
      " This is Benz Car \n",
      " This is BMW car \n",
      " This is Volvo Bus \n",
      " This is Eicher Truck \n",
      " This is Indigo plane \n",
      "This is the Main Class\n"
     ]
    }
   ],
   "source": [
    "M.Benz()\n",
    "M.Bmw()\n",
    "M.Volvo()\n",
    "M.Eicher()\n",
    "M.Indigo()\n",
    "M.Main_class()"
   ]
  },
  {
   "cell_type": "markdown",
   "metadata": {},
   "source": [
    "### Decorator\n",
    "#### * A decorator in Python is a function that takes another function as an argument and extends its behavior without explicitly modifying it. It is one of the most powerful features of Python. It has several usages in the real world like logging, debugging, authentication, measuring execution time and so on.\n"
   ]
  },
  {
   "cell_type": "code",
   "execution_count": 4,
   "metadata": {},
   "outputs": [],
   "source": [
    "def new_decorator(original_func):\n",
    "    \n",
    "    def wrap_func():\n",
    "        \n",
    "        print('Some extra code before original function')\n",
    "        \n",
    "        original_func()\n",
    "        \n",
    "        print('Some extra code after original function')\n",
    "        \n",
    "    return wrap_func"
   ]
  },
  {
   "cell_type": "code",
   "execution_count": 5,
   "metadata": {},
   "outputs": [],
   "source": [
    "@new_decorator #when we put @new decoraor at top of function\n",
    "def func_needs_decorator(): #we are going to pass this func_needs_decorator inside (original_func)\n",
    "    print('I want to be decorated')"
   ]
  },
  {
   "cell_type": "code",
   "execution_count": 6,
   "metadata": {},
   "outputs": [
    {
     "name": "stdout",
     "output_type": "stream",
     "text": [
      "Some extra code before original function\n",
      "I want to be decorated\n",
      "Some extra code after original function\n"
     ]
    }
   ],
   "source": [
    "func_needs_decorator()"
   ]
  },
  {
   "cell_type": "markdown",
   "metadata": {},
   "source": [
    "## Use of abstract class.\n",
    "#### * An abstract method is a method that has a declaration but does not have an implementation. \n",
    "#### * we can declare an abstract method by using @abstractmethod decorator. \n",
    "#### * This abstract method is present in the abc module in python, and hence, while declaring the abstract method, we have to import the abc module compulsory"
   ]
  },
  {
   "cell_type": "code",
   "execution_count": 7,
   "metadata": {},
   "outputs": [],
   "source": [
    "from abc import ABC, abstractmethod"
   ]
  },
  {
   "cell_type": "code",
   "execution_count": 8,
   "metadata": {},
   "outputs": [],
   "source": [
    "class Polygon(ABC):\n",
    " \n",
    "    @abstractmethod\n",
    "    def noofsides(self):\n",
    "        pass\n",
    "class Triangle(Polygon):\n",
    "    # overriding abstract method\n",
    "    def noofsides(self):\n",
    "        print(\"I have 3 sides\")"
   ]
  },
  {
   "cell_type": "code",
   "execution_count": 9,
   "metadata": {},
   "outputs": [
    {
     "name": "stdout",
     "output_type": "stream",
     "text": [
      "I have 3 sides\n"
     ]
    }
   ],
   "source": [
    "R = Triangle()\n",
    "R.noofsides()\n"
   ]
  },
  {
   "cell_type": "markdown",
   "metadata": {},
   "source": [
    "### Create a function to read the text file and replace specific contents of file."
   ]
  },
  {
   "cell_type": "code",
   "execution_count": 10,
   "metadata": {},
   "outputs": [],
   "source": [
    "f = open('example.txt',mode='w')\n",
    "f.write('This is a placement assignment')\n",
    "f.close()"
   ]
  },
  {
   "cell_type": "code",
   "execution_count": 11,
   "metadata": {},
   "outputs": [],
   "source": [
    "with open('example.txt','r+') as file:\n",
    "    filedata = file.read()\n",
    "    filedata = filedata.replace('placement','screening')\n",
    "    file.truncate(0)\n",
    "\n",
    "    file.write(filedata)"
   ]
  },
  {
   "cell_type": "code",
   "execution_count": 13,
   "metadata": {},
   "outputs": [
    {
     "name": "stdout",
     "output_type": "stream",
     "text": [
      "\u0000\u0000\u0000\u0000\u0000\u0000\u0000\u0000\u0000\u0000\u0000\u0000\u0000\u0000\u0000\u0000\u0000\u0000\u0000\u0000\u0000\u0000\u0000\u0000\u0000\u0000\u0000\u0000\u0000\u0000This is a screening assignment\n"
     ]
    }
   ],
   "source": [
    "f = open('example.txt',mode='r')\n",
    "print(f.readline())\n",
    "f.close()"
   ]
  },
  {
   "cell_type": "code",
   "execution_count": null,
   "metadata": {},
   "outputs": [],
   "source": []
  }
 ],
 "metadata": {
  "kernelspec": {
   "display_name": "Python 3",
   "language": "python",
   "name": "python3"
  },
  "language_info": {
   "codemirror_mode": {
    "name": "ipython",
    "version": 3
   },
   "file_extension": ".py",
   "mimetype": "text/x-python",
   "name": "python",
   "nbconvert_exporter": "python",
   "pygments_lexer": "ipython3",
   "version": "3.8.3"
  }
 },
 "nbformat": 4,
 "nbformat_minor": 4
}
